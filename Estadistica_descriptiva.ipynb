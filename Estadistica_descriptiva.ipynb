{
  "nbformat": 4,
  "nbformat_minor": 0,
  "metadata": {
    "colab": {
      "provenance": [],
      "authorship_tag": "ABX9TyOvmIKSfYMFKg4OhpfCwHtA",
      "include_colab_link": true
    },
    "kernelspec": {
      "name": "python3",
      "display_name": "Python 3"
    },
    "language_info": {
      "name": "python"
    }
  },
  "cells": [
    {
      "cell_type": "markdown",
      "metadata": {
        "id": "view-in-github",
        "colab_type": "text"
      },
      "source": [
        "<a href=\"https://colab.research.google.com/github/Gdearmascasta/Liberias-data/blob/main/Estadistica_descriptiva.ipynb\" target=\"_parent\"><img src=\"https://colab.research.google.com/assets/colab-badge.svg\" alt=\"Open In Colab\"/></a>"
      ]
    },
    {
      "cell_type": "markdown",
      "source": [
        "# Entregable #1\n",
        "*German Eduardo De Armas Castaño - T00068765* <br>\n",
        "*Isaac David Sánchez Sánchez - T00067613* <br>\n",
        "*Katlyn Gutierrez Cardona - T00082259* <br>\n",
        "*Shalom Jhoanna Arrieta Marrugo - T00082962*\n",
        "\n",
        " <img src=\"https://mundonoticias.com.co/wp-content/uploads/2023/09/logo-utb_8526706_20230919150705.jpg\" alt=\"UTB Logo\" width = \"300\" >\n"
      ],
      "metadata": {
        "id": "aiY58GGdb-NX"
      }
    },
    {
      "cell_type": "code",
      "execution_count": null,
      "metadata": {
        "id": "6rT8oRUaTv24"
      },
      "outputs": [],
      "source": [
        "import numpy as np\n",
        "import pandas as pd"
      ]
    },
    {
      "cell_type": "markdown",
      "source": [
        "###**1.Diez economistas recibieron el encargo de predecir el crecimiento porcentual que experimentará el índice de precios de consumo el próximo año. Sus predicciones fueron: 3.6, 3.1, 3.9, 3.7, 3.5, 3.7, 3.4, 3, 3.7 y 3.4.**\n",
        "a. Calcule la media muestral. </br>\n",
        "b. Calcule la mediana muestral. </br>\n",
        "c. ¿Cuál es la moda?"
      ],
      "metadata": {
        "id": "7hlAGH6sUSPK"
      }
    },
    {
      "cell_type": "code",
      "source": [
        "ipc = [3.6, 3.1, 3.9, 3.7, 3.5, 3.7, 3.4, 3, 3.7, 3.4]\n",
        "# Con pd\n",
        "ipc_pd = pd.Series(ipc)\n",
        "\n",
        "# Con np\n",
        "ipc_np = np.array(ipc)\n",
        "\n",
        "# Imprimir datos con pd\n",
        "print(\"La media es: \", ipc_pd.mean())\n",
        "print(\"La mediana es: \", ipc_pd.median())\n",
        "print(\"La moda es: \", ipc_pd.mode()[0])\n",
        "print(\"\\n\")\n",
        "# Imprimir datos con np\n",
        "print(\"La media es: \", np.mean(ipc_np))\n",
        "print(\"La mediana es: \", np.median(ipc_np))\n",
        "print(\"No existe función para la moda en np.\")"
      ],
      "metadata": {
        "colab": {
          "base_uri": "https://localhost:8080/"
        },
        "id": "8AxW1JP2UwQE",
        "outputId": "93c70693-cfe3-45dc-e9aa-c81b33e76b98"
      },
      "execution_count": null,
      "outputs": [
        {
          "output_type": "stream",
          "name": "stdout",
          "text": [
            "La media es:  3.5\n",
            "La mediana es:  3.55\n",
            "La moda es:  3.7\n",
            "\n",
            "\n",
            "La media es:  3.5\n",
            "La mediana es:  3.55\n",
            "No existe función para la moda en np.\n"
          ]
        }
      ]
    },
    {
      "cell_type": "markdown",
      "source": [
        "###**En el experimento Spacelab Life Sciences, dirigido por Paul Callahan, se enviaron 14 ratas macho al espacio. Al regresar, se determinó la cantidad de glóbulos rojos (millones/mililitro) en cada una. Paralelamente, otro grupo de 14 ratas macho fue mantenido bajo las mismas condiciones, excepto por el viaje espacial, y también se les midió la cantidad de glóbulos rojos. La siguiente tabla presenta los datos obtenidos para ambos grupos.**\n",
        "\n",
        "Calcule la desviación estándar muestral para cada grupo e interprete los resultados.\n",
        "\n"
      ],
      "metadata": {
        "id": "noHcGtOrV3Bo"
      }
    },
    {
      "cell_type": "code",
      "source": [
        "flight = [7.43, 7.21, 8.59, 8.64, 9.73, 6.85, 6.87, 7.89, 9.30, 8.03, 7, 8.8, 6.39, 7.54]\n",
        "Control= [8.65, 6.99, 8.40, 9.66, 7.62, 7.44, 8.55, 8.70, 7.33, 8.58, 9.88, 9.94, 7.14, 9.14]\n",
        "\n",
        "# con pd\n",
        "df = pd.DataFrame({\"flight\": flight, \"Control\": Control})\n",
        "\n",
        "print(\"La desviación estandar: \\n\", df.std(ddof=1))\n",
        "\n",
        "# con np\n",
        "flight_np = np.array(flight)\n",
        "Control_np = np.array(Control)\n",
        "print(\"\\n La desviación estandar de Flight :\", np.std(flight_np,ddof=1))\n",
        "print(\"\\n La desviación estandar de Control :\", np.std(Control_np,ddof=1))\n",
        "print(\"\\n Esto indica que la variabilidad en la cantidad de glóbulos rojos es comparable en ambos grupos. \" )\n"
      ],
      "metadata": {
        "colab": {
          "base_uri": "https://localhost:8080/"
        },
        "id": "moql5pBbVmjY",
        "outputId": "c8f467a0-1006-4259-92e3-a5443abc8d74"
      },
      "execution_count": null,
      "outputs": [
        {
          "output_type": "stream",
          "name": "stdout",
          "text": [
            "La desviación estandar: \n",
            " flight     1.008881\n",
            "Control    1.005470\n",
            "dtype: float64\n",
            "\n",
            " La desviación estandar de Flight : 1.008880622219552\n",
            "\n",
            " La desviación estandar de Control : 1.005469656811796\n",
            "\n",
            " Esto indica que la variabilidad en la cantidad de glóbulos rojos es comparable en ambos grupos. \n"
          ]
        }
      ]
    },
    {
      "cell_type": "markdown",
      "source": [
        "###**Los datos de la producción de trigo en toneladas (X) y el precio del kilo de harina en pesetas (Y) en la década de los 80 en España fueron:**##\n",
        "Encuentra la correlación entre X y Y, ¿qué concluye?\n"
      ],
      "metadata": {
        "id": "KiobNbDkaC9D"
      }
    },
    {
      "cell_type": "code",
      "source": [
        "producción_de_trigo= [30,28,32,25,25,25,22,24,35,40]\n",
        "producción_de_harina=[25,30,27,40,42,40,50,45,30,25]\n",
        "\n",
        "# Calculate correlation using pandas\n",
        "df_trigo_harina = pd.DataFrame({'producción_de_trigo': producción_de_trigo, 'producción_de_harina': producción_de_harina})\n",
        "correlation_pandas = df_trigo_harina['producción_de_trigo'].corr(df_trigo_harina['producción_de_harina'])\n",
        "print(\"Coeficiente de correlación con pandas:\", correlation_pandas)\n",
        "\n",
        "# Calculate correlation using numpy\n",
        "correlation_numpy = np.corrcoef(producción_de_trigo, producción_de_harina)[0, 1]\n",
        "print(\"Coeficiente de correlación con numpy:\", correlation_numpy)\n",
        "\n",
        "if correlation_pandas < 0:\n",
        "  print(\"\\nConclusión: Existe una correlación negativa entre la producción de trigo y el precio de la harina. Esto significa que cuando la producción de trigo aumenta, el precio de la harina tiende a disminuir, y viceversa.\")\n",
        "elif correlation_pandas > 0:\n",
        "  print(\"\\nConclusión: Existe una correlación positiva entre la producción de trigo y el precio de la harina. Esto significa que cuando la producción de trigo aumenta, el precio de la harina tiende a aumentar, y viceversa.\")\n",
        "else:\n",
        "  print(\"\\nConclusión: No existe correlación lineal entre la producción de trigo y el precio de la harina.\")"
      ],
      "metadata": {
        "colab": {
          "base_uri": "https://localhost:8080/"
        },
        "id": "15-DDUZAaUHz",
        "outputId": "0c26de8a-64b5-4651-d212-e8dfb1213d5f"
      },
      "execution_count": null,
      "outputs": [
        {
          "output_type": "stream",
          "name": "stdout",
          "text": [
            "Coeficiente de correlación con pandas: -0.8471401998291059\n",
            "Coeficiente de correlación con numpy: -0.8471401998291059\n",
            "\n",
            "Conclusión: Existe una correlación negativa entre la producción de trigo y el precio de la harina. Esto significa que cuando la producción de trigo aumenta, el precio de la harina tiende a disminuir, y viceversa.\n"
          ]
        }
      ]
    },
    {
      "cell_type": "markdown",
      "source": [
        "###**4. En una investigación sobre hábitos de estudio, se recopilaron los siguientes datos de 10 estudiantes: Horas de estudio por semana, Promedio de horas de sueño diarias, Calificación final (sobre 100)**###"
      ],
      "metadata": {
        "id": "74jlemFbbWi5"
      }
    },
    {
      "cell_type": "code",
      "source": [
        "import numpy as np\n",
        "import pandas as pd\n",
        "\n",
        "# Datos\n",
        "data = {\n",
        "\"Horas_estudio\": [10, 12, 8, 15, 7, 9, 14, 6, 11, 13],\n",
        "\"Horas_sueño\": [7, 6, 8, 6, 9, 7, 6, 8, 7, 6],\n",
        "\"Calificacion\": [85, 88, 75, 90, 70, 78, 92, 72, 84, 89]\n",
        "}\n",
        "\n",
        "# Crear DataFrame\n",
        "df = pd.DataFrame(data)\n",
        "\n",
        "# MEDIA\n",
        "media = df.mean()\n",
        "\n",
        "# MEDIANA\n",
        "mediana = df.median()\n",
        "\n",
        "# MODA\n",
        "moda = df.mode()\n",
        "\n",
        "# DESVIACIÓN ESTÁNDAR (muestral)\n",
        "desv_std = df.std(ddof=1)\n",
        "\n",
        "# CORRELACIÓN\n",
        "correlacion = df.corr()\n",
        "\n",
        "# Mostrar resultados\n",
        "print(\"MEDIA:\\n\", media)\n",
        "print(\"\\nMEDIANA:\\n\", mediana)\n",
        "print(\"\\nMODA:\\n\", moda)\n",
        "print(\"\\nDESVIACIÓN ESTÁNDAR:\\n\", desv_std)\n",
        "print(\"\\nMATRIZ DE CORRELACIÓN:\\n\", correlacion)"
      ],
      "metadata": {
        "colab": {
          "base_uri": "https://localhost:8080/"
        },
        "id": "tbH6_30-bKJ6",
        "outputId": "b3924016-111d-48d4-cba3-06d198ecf497"
      },
      "execution_count": null,
      "outputs": [
        {
          "output_type": "stream",
          "name": "stdout",
          "text": [
            "MEDIA:\n",
            " Horas_estudio    10.5\n",
            "Horas_sueño       7.0\n",
            "Calificacion     82.3\n",
            "dtype: float64\n",
            "\n",
            "MEDIANA:\n",
            " Horas_estudio    10.5\n",
            "Horas_sueño       7.0\n",
            "Calificacion     84.5\n",
            "dtype: float64\n",
            "\n",
            "MODA:\n",
            "    Horas_estudio  Horas_sueño  Calificacion\n",
            "0              6          6.0            70\n",
            "1              7          NaN            72\n",
            "2              8          NaN            75\n",
            "3              9          NaN            78\n",
            "4             10          NaN            84\n",
            "5             11          NaN            85\n",
            "6             12          NaN            88\n",
            "7             13          NaN            89\n",
            "8             14          NaN            90\n",
            "9             15          NaN            92\n",
            "\n",
            "DESVIACIÓN ESTÁNDAR:\n",
            " Horas_estudio    3.027650\n",
            "Horas_sueño      1.054093\n",
            "Calificacion     7.958922\n",
            "dtype: float64\n",
            "\n",
            "MATRIZ DE CORRELACIÓN:\n",
            "                Horas_estudio  Horas_sueño  Calificacion\n",
            "Horas_estudio       1.000000    -0.905204      0.956788\n",
            "Horas_sueño        -0.905204     1.000000     -0.953580\n",
            "Calificacion        0.956788    -0.953580      1.000000\n"
          ]
        }
      ]
    }
  ]
}